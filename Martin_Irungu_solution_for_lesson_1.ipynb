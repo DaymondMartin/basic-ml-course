{
  "nbformat": 4,
  "nbformat_minor": 0,
  "metadata": {
    "colab": {
      "provenance": [],
      "collapsed_sections": [],
      "authorship_tag": "ABX9TyMxiSZrqKU6ZREor5OKjZkq",
      "include_colab_link": true
    },
    "kernelspec": {
      "name": "python3",
      "display_name": "Python 3"
    },
    "language_info": {
      "name": "python"
    }
  },
  "cells": [
    {
      "cell_type": "markdown",
      "metadata": {
        "id": "view-in-github",
        "colab_type": "text"
      },
      "source": [
        "<a href=\"https://colab.research.google.com/github/DaymondMartin/basic-ml-course/blob/master/Martin_Irungu_solution_for_lesson_1.ipynb\" target=\"_parent\"><img src=\"https://colab.research.google.com/assets/colab-badge.svg\" alt=\"Open In Colab\"/></a>"
      ]
    },
    {
      "cell_type": "markdown",
      "source": [
        "#**Assignment 1 (1 pt)**\n",
        "\n",
        "Write a function is_triangle to check the validity of a triangle. This function should receive 3 parameters corresponding to the length of 3 edges. It should return boolean True if all 3 edges can form a triangle, else it returns False."
      ],
      "metadata": {
        "id": "xxXRUDt9WdCe"
      }
    },
    {
      "cell_type": "code",
      "source": [
        "def is_triangle(a, b, c):\n",
        "    if a+b>=c and b+c>=a and c+a>=b:\n",
        "      return True\n",
        "    else:\n",
        "      return False\n",
        "  \n",
        "\n",
        "print(is_triangle(1, 2, 3))  # Expected output: False\n",
        "print(is_triangle(2, 2, 3))  # Expected output: True"
      ],
      "metadata": {
        "colab": {
          "base_uri": "https://localhost:8080/"
        },
        "id": "lF2lPQydXCV_",
        "outputId": "b160971d-7156-4f9d-a3ff-9455e73dcd63"
      },
      "execution_count": null,
      "outputs": [
        {
          "output_type": "stream",
          "name": "stdout",
          "text": [
            "True\n",
            "True\n"
          ]
        }
      ]
    },
    {
      "cell_type": "markdown",
      "source": [
        "# **Assignment 2 (1 pt)**\n",
        "\n",
        "Print odd numbers from 1 to 10 using for loop and range.\n",
        "\n",
        "Expected output:\n",
        "  \n",
        "  1\n",
        "  3\n",
        "  5\n",
        "  7\n",
        "  9\n",
        "  "
      ],
      "metadata": {
        "id": "9V8ead8wZ2ys"
      }
    },
    {
      "cell_type": "code",
      "source": [
        "for x in range (1,10,2):\n",
        "  print (x)"
      ],
      "metadata": {
        "colab": {
          "base_uri": "https://localhost:8080/"
        },
        "id": "zBjzjb-7aE67",
        "outputId": "e150c1f2-4154-47fe-feab-23d900f2e622"
      },
      "execution_count": null,
      "outputs": [
        {
          "output_type": "stream",
          "name": "stdout",
          "text": [
            "1\n",
            "3\n",
            "5\n",
            "7\n",
            "9\n"
          ]
        }
      ]
    },
    {
      "cell_type": "markdown",
      "source": [
        "#**Assignment 3 (1 pt)**\n",
        "\n",
        "Write a function get_reverse that return a reversed string.\n",
        "\n",
        "Input: Kenya\n",
        "\n",
        "Output: ayneK"
      ],
      "metadata": {
        "id": "4L0MyGFXjfm9"
      }
    },
    {
      "cell_type": "code",
      "source": [
        "def get_reverse(text):\n",
        "    text = text[::-1]  \n",
        "    return text\n",
        "    \n",
        "x = input(\"Kenya\")\n",
        "print(get_reverse(x))\n",
        "   "
      ],
      "metadata": {
        "id": "U8cfJ532jxKk"
      },
      "execution_count": null,
      "outputs": []
    },
    {
      "cell_type": "markdown",
      "source": [],
      "metadata": {
        "id": "j_Zv6LIXXmTN"
      }
    },
    {
      "cell_type": "markdown",
      "source": [
        "#**Assignment 4 (1 pt)**\n",
        "\n",
        "Write a function that return a new set that contains elements that are either in set a or b but not both."
      ],
      "metadata": {
        "id": "fcWGj_ZQl37K"
      }
    },
    {
      "cell_type": "code",
      "source": [
        "set1 = {10, 20, 30, 40, 50}\n",
        "set2 = {30, 40, 50, 60, 70}\n",
        "\n",
        "set3 = set1.symmetric_difference(set2)\n",
        "\n",
        "print(set3)"
      ],
      "metadata": {
        "id": "xA8134tRmB-a"
      },
      "execution_count": null,
      "outputs": []
    },
    {
      "cell_type": "markdown",
      "source": [
        "Assignment 5 (1 pt)\n",
        "\n",
        "Write a function remove_from_list that remove all occurrances of a value from a list.\n",
        "\n",
        "def remove_from_list(input_list, value):\n",
        "    # Write your code here\n",
        "    pass  # Remove this line\n",
        "\n",
        "a = [10, 20, 10, 30, 40, 50, 10, 0]\n",
        "\n",
        "remove_from_list(a, 10)\n",
        "\n",
        "print(a)  \n",
        "# Expected output: [20, 30, 40, 50, 0]"
      ],
      "metadata": {
        "id": "fwwIgMVTmuPD"
      }
    },
    {
      "cell_type": "code",
      "source": [
        "def remove_from_list(input_list, value):\n",
        "\n",
        "        input_list = [x for x in input_list if x != value]\n",
        "        return input_list\n",
        "\n",
        "y = [10, 20, 10, 30, 40, 50, 10, 0]\n",
        "y = remove_from_list(y, 10)\n",
        "print(y)"
      ],
      "metadata": {
        "colab": {
          "base_uri": "https://localhost:8080/"
        },
        "id": "UGE5-aovozfN",
        "outputId": "5f11e0f0-18fd-4a85-e09c-0b74d74095f3"
      },
      "execution_count": 5,
      "outputs": [
        {
          "output_type": "stream",
          "name": "stdout",
          "text": [
            "[20, 30, 40, 50, 0]\n"
          ]
        }
      ]
    },
    {
      "cell_type": "markdown",
      "source": [
        "#**Assignment 6 (1 pt)**\n",
        "\n",
        "Complete the following class by: (1 pt)\n",
        "\n",
        "Write code that assign name and score to the object.\n",
        "Write method get_score that return score attribute of the object.\n",
        "Write method describe that print <student name>: <student score>."
      ],
      "metadata": {
        "id": "IxO1GWsyqrRN"
      }
    },
    {
      "cell_type": "code",
      "source": [
        "class Student:\n",
        "    def __init__(self, name, score):\n",
        "        self.name = name\n",
        "        self.score = score\n",
        "\n",
        "    def get_score(self):\n",
        "        return self.score\n",
        "    \n",
        "    def describe(self):\n",
        "        return self.name + \": \" + str(self.score)\n",
        "\n",
        "student = Student(\"Martin\", 97)\n",
        "print(student.get_score())  \n",
        "student.describe()"
      ],
      "metadata": {
        "id": "LMJPI43oqzir",
        "colab": {
          "base_uri": "https://localhost:8080/",
          "height": 53
        },
        "outputId": "47646b1b-3c63-4316-bd4c-5512e26c06b9"
      },
      "execution_count": 7,
      "outputs": [
        {
          "output_type": "stream",
          "name": "stdout",
          "text": [
            "97\n"
          ]
        },
        {
          "output_type": "execute_result",
          "data": {
            "text/plain": [
              "'Martin: 97'"
            ],
            "application/vnd.google.colaboratory.intrinsic+json": {
              "type": "string"
            }
          },
          "metadata": {},
          "execution_count": 7
        }
      ]
    },
    {
      "cell_type": "markdown",
      "source": [
        "#**Assignment 7 (1 pt)**\n",
        "\n",
        "Complete the Employee class by:\n",
        "\n",
        "Write code that calls the __init__ method of the base class to initialize attributes.\n",
        "Write a speak method that receives a word as its parameter and outputs \"Employee <employee name> spoke <word>\""
      ],
      "metadata": {
        "id": "1FPZPMcAuhvZ"
      }
    },
    {
      "cell_type": "code",
      "source": [
        "class Person:\n",
        "    def __init__(self, name):\n",
        "        self.name = name\n",
        "\n",
        "    def speak(self):\n",
        "        return \"Person \" + self.name + \" said\"\n",
        "\n",
        "class Employee(Person):\n",
        "    def __init__(self, name):\n",
        "        super().__init__(name)\n",
        "        \n",
        "\n",
        "    def speak(self, word):\n",
        "        return \"Employee\" +\" \" +self.name+ \" \" \"said\" +\" \" +word\n",
        "        \n",
        "\n",
        "employee = Employee(\"Martin\")\n",
        "print(employee.speak(\"hi\"))"
      ],
      "metadata": {
        "id": "Uu25v2r_upwl",
        "colab": {
          "base_uri": "https://localhost:8080/"
        },
        "outputId": "cd97458d-cb11-49b2-a4e0-d9aada27e842"
      },
      "execution_count": 2,
      "outputs": [
        {
          "output_type": "stream",
          "name": "stdout",
          "text": [
            "Employee Martin said hi\n"
          ]
        }
      ]
    },
    {
      "cell_type": "markdown",
      "source": [
        "#**Assignment 8 (1 pt)**\n",
        "\n",
        "Print all the key-value pairs of a dictionary using for loop. Each line is a key-value pair.\n",
        "\n",
        "Hint: to get all the keys of a dictionary, use .keys()."
      ],
      "metadata": {
        "id": "7hPjwoljuw4k"
      }
    },
    {
      "cell_type": "code",
      "source": [
        "country_capital = {\n",
        "    \"japan\": \"tokyo\",\n",
        "    \"vietnam\": \"hanoi\",\n",
        "    \"france\": \"paris\"\n",
        "}\n",
        "\n",
        "for key,value in country_capital.items():\n",
        "    print(key, \" - \", value)"
      ],
      "metadata": {
        "colab": {
          "base_uri": "https://localhost:8080/"
        },
        "id": "uazQm4iVvRQp",
        "outputId": "a3105b55-dd4a-4fde-fd4c-a1abb73afa2d"
      },
      "execution_count": 8,
      "outputs": [
        {
          "output_type": "stream",
          "name": "stdout",
          "text": [
            "japan  -  tokyo\n",
            "vietnam  -  hanoi\n",
            "france  -  paris\n"
          ]
        }
      ]
    },
    {
      "cell_type": "markdown",
      "source": [
        "#**Assignment 9 (2 pt)**\n",
        "\n",
        "Write a function solve_equation to solve equation ax^2 + bx + c = 0. (1 pt)\n",
        "\n",
        "If equation has no solutions, print No solution.\n",
        "If equation has one solution, print Equation has one solution <x> (<x> is the value of the solution)\n",
        "If equation has two solutions, print Equation has two solutions <x1> and <x2> (<x1> and <x2> are the values of the solution)"
      ],
      "metadata": {
        "id": "o3N7THJnvjPp"
      }
    },
    {
      "cell_type": "code",
      "source": [
        "import math\n",
        "\n",
        "def solve_equation(a, b, c):\n",
        "\n",
        "\n",
        "    discriminant = b * b - 4 * a * c #quadratic formula\n",
        "\n",
        "    sqrt_dis = math.sqrt(abs(discriminant))\n",
        "\n",
        "\n",
        "    if discriminant > 0: # if b^2 - 4ac > 0 \n",
        "        print(\" Equation has two solutions\") \n",
        "        print(str((-b + sqrt_dis)/(2 * a))) \n",
        "        print(str((-b - sqrt_dis)/(2 * a))) \n",
        "\n",
        "\n",
        "    elif discriminant == 0: # if b^2 - 4ac = 0\n",
        "        print(\" Equation has one solution: \" + str(-b / (2 * a)) ) \n",
        "  \n",
        "    \n",
        "    else:\n",
        "        print(\"Equation has no solution\") \n",
        "    \n",
        "\n",
        "solve_equation(1,14,49)"
      ],
      "metadata": {
        "id": "vnwB891kvs6G",
        "colab": {
          "base_uri": "https://localhost:8080/"
        },
        "outputId": "6b96af76-6f2c-4f9e-e937-c53cedda02cf"
      },
      "execution_count": 3,
      "outputs": [
        {
          "output_type": "stream",
          "name": "stdout",
          "text": [
            " Equation has one solution: -7.0\n"
          ]
        }
      ]
    }
  ]
}