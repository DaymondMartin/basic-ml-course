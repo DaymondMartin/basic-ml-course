{
  "nbformat": 4,
  "nbformat_minor": 0,
  "metadata": {
    "colab": {
      "provenance": [],
      "collapsed_sections": [],
      "authorship_tag": "ABX9TyN+FSmz+KYuvE58TVRWFjj/",
      "include_colab_link": true
    },
    "kernelspec": {
      "name": "python3",
      "display_name": "Python 3"
    },
    "language_info": {
      "name": "python"
    }
  },
  "cells": [
    {
      "cell_type": "markdown",
      "metadata": {
        "id": "view-in-github",
        "colab_type": "text"
      },
      "source": [
        "<a href=\"https://colab.research.google.com/github/DaymondMartin/basic-ml-course/blob/master/Martin_Irungu_solution_for_leson_02.ipynb\" target=\"_parent\"><img src=\"https://colab.research.google.com/assets/colab-badge.svg\" alt=\"Open In Colab\"/></a>"
      ]
    },
    {
      "cell_type": "markdown",
      "source": [
        "#**Take a quick look at the dataset.**\n",
        "\n",
        "Visualizing helps getting a feel of the trend of the data. No need to delve too hard into the actual code yet."
      ],
      "metadata": {
        "id": "P_bEBOkqXdTx"
      }
    },
    {
      "cell_type": "code",
      "source": [
        "print(data.keys())\n",
        "X= data.data\n",
        "y = data.target\n",
        "feature_names = data.feature_names\n",
        "print('data.data :{0}, data.target: {1}, num_features: {2}'.format(X.shape, y.shape, len(feature_names)))\n",
        "print('num_datapoints : {}'.format(X.shape[0]))"
      ],
      "metadata": {
        "id": "yJnIjxRN-TjH"
      },
      "execution_count": null,
      "outputs": []
    },
    {
      "cell_type": "markdown",
      "source": [
        "#**Learning the parameters (coefficients and intercept).**\n",
        "\n",
        "Homework: implement everywhere there is an ellipsis (...)."
      ],
      "metadata": {
        "id": "RN-Jg20z97k_"
      }
    },
    {
      "cell_type": "code",
      "source": [
        "\n",
        "\n",
        "def training(X, y):\n",
        "    \"\"\" find the coefficients and the intercept of the linear model which fit best to the dataset \n",
        "    X: is a the input matrix, which rows are examples and columns are features\n",
        "    y: the target vector, which has length equals to the number of total examples in the dataset\n",
        "    \n",
        "    return:\n",
        "    \n",
        "    coefficients : which is a vector, lenght equals to number of features  \n",
        "    intercept: a scalar (the bias)\"\"\"\n",
        "    \n",
        "    import numpy as np\n",
        "    from sklearn.linear_model import LinearRegression\n",
        "\n",
        "    model = LinearRegression()\n",
        "    model.fit(X,y)\n",
        "    intercept = model.intercept_\n",
        "    coefficients = model.coef_\n",
        "    print(f\"intercept: {intercept}\")\n",
        "    print(f\"coefficients: {coefficients}\")\n",
        "\n",
        "    return intercept,coefficients\n",
        "    training(X,y)   "
      ],
      "metadata": {
        "id": "lMsTvbZpX_xl"
      },
      "execution_count": 8,
      "outputs": []
    },
    {
      "cell_type": "markdown",
      "source": [
        "#**Evaluation**\n",
        "\n",
        "Similarly, fill in the blank."
      ],
      "metadata": {
        "id": "Pu0aonJhwSE1"
      }
    },
    {
      "cell_type": "code",
      "source": [
        "def prediction(X, coefficients, intercept):\n",
        "    \"\"\"compute y_predict: the price prediction of our model for your input houses \n",
        "    X: is a the input matrix(N houses) or a vector (1 houses) , with columns are features\n",
        "    coefficients and scalar: calculated above\n",
        "    \n",
        "    return:\n",
        "    y_predict: a vector or scalar (equal to number of houses)\n",
        "    \"\"\"\n",
        "    y_predict: = x@coefficients + intercept\n",
        "    return y_predict\n",
        "    "
      ],
      "metadata": {
        "id": "TbDZLiAAwalL"
      },
      "execution_count": null,
      "outputs": []
    },
    {
      "cell_type": "markdown",
      "source": [
        "# MSE evaluation"
      ],
      "metadata": {
        "id": "JFgJZxz6wm3C"
      }
    },
    {
      "cell_type": "code",
      "source": [
        "def MSE(X, y_target, coefficients, intercept):\n",
        "    \"\"\"Calculate the mean square error of your model\n",
        "    X: is a the input matrix , which rows are examples and columns are features\n",
        "    y_target : a vector,contains the true housing prices for all houses in the dataset\n",
        "    coefficients and scalar: calculated above, used to compute y_predict\n",
        "    \n",
        "    return:\n",
        "    MSE: a scalar\"\"\"\n",
        "    \n",
        "    # compute y_predict: the price prediction of our model for all houses\n",
        "    #1 line of code\n",
        "    y_predict = x@coefficients + intercept\n",
        "    \n",
        "    # calculate MSE based on y_predict and y_target\n",
        "    assert len(y_predict) == len(y_target)\n",
        "    # 1 line of code\n",
        "    MSE = mean_squared_error(y_target,y_predict)\n",
        "\n",
        "    return MSE"
      ],
      "metadata": {
        "id": "QHTKxrJqwro0"
      },
      "execution_count": 10,
      "outputs": []
    },
    {
      "cell_type": "markdown",
      "source": [
        "#**How good is your regressor?**"
      ],
      "metadata": {
        "id": "-TAEMfSNwxFR"
      }
    },
    {
      "cell_type": "code",
      "source": [
        "def visualize_results(y_predict, y_target):\n",
        "    \"\"\" this function plot your y_predict and y_predict to see how closed they are\"\"\"\n",
        "    \n",
        "    plt.figure(figsize=(5, 4))\n",
        "    plt.scatter(y_target, y_predict)\n",
        "    plt.plot([0, 50], [0, 50], '--k')\n",
        "    plt.axis('tight')\n",
        "    plt.xlabel('True price ($1000s)')\n",
        "    plt.ylabel('Predicted price ($1000s)')\n",
        "    plt.tight_layout()"
      ],
      "metadata": {
        "id": "qSU2UmeVw4gx"
      },
      "execution_count": 4,
      "outputs": []
    }
  ]
}