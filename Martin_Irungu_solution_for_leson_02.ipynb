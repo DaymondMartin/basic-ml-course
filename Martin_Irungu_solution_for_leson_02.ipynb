{
  "nbformat": 4,
  "nbformat_minor": 0,
  "metadata": {
    "colab": {
      "provenance": [],
      "authorship_tag": "ABX9TyPgiGcy8IBWde+ecIM/HLWz",
      "include_colab_link": true
    },
    "kernelspec": {
      "name": "python3",
      "display_name": "Python 3"
    },
    "language_info": {
      "name": "python"
    }
  },
  "cells": [
    {
      "cell_type": "markdown",
      "metadata": {
        "id": "view-in-github",
        "colab_type": "text"
      },
      "source": [
        "<a href=\"https://colab.research.google.com/github/DaymondMartin/basic-ml-course/blob/master/Martin_Irungu_solution_for_leson_02.ipynb\" target=\"_parent\"><img src=\"https://colab.research.google.com/assets/colab-badge.svg\" alt=\"Open In Colab\"/></a>"
      ]
    },
    {
      "cell_type": "code",
      "execution_count": null,
      "metadata": {
        "id": "Bfm8EmkpQMuw"
      },
      "outputs": [],
      "source": []
    },
    {
      "cell_type": "code",
      "source": [
        "import numpy as np\n",
        "import sklearn\n",
        "# we used the library sklearn here only to load the data\n",
        "\n",
        "# You dont have to care about matplotlib for now\n",
        "import matplotlib.pyplot as plt\n",
        "\n",
        "# load data from sklearn\n",
        "from sklearn.datasets import load_boston\n",
        "data = load_boston()"
      ],
      "metadata": {
        "id": "Hk8-NcWVRn6E"
      },
      "execution_count": 11,
      "outputs": []
    },
    {
      "cell_type": "code",
      "source": [
        "print(data.keys())\n",
        "X= data.data\n",
        "y = data.target\n",
        "feature_names = data.feature_names\n",
        "print('data.data :{0}, data.target: {1}, num_features: {2}'.format(X.shape, y.shape, len(feature_names)))\n",
        "print('num_datapoints : {}'.format(X.shape[0]))\n",
        "\n",
        "dict_keys(['data', 'target', 'feature_names', 'DESCR', 'filename'])\n",
        "data.data :(506, 13), data.target: (506,), num_features: 13\n",
        "num_datapoints : 506"
      ],
      "metadata": {
        "colab": {
          "base_uri": "https://localhost:8080/",
          "height": 130
        },
        "id": "cK4Wd_DtR6zx",
        "outputId": "033cbfbf-c187-4fab-a5b3-7a68ae11f98f"
      },
      "execution_count": 12,
      "outputs": [
        {
          "output_type": "error",
          "ename": "SyntaxError",
          "evalue": "ignored",
          "traceback": [
            "\u001b[0;36m  File \u001b[0;32m\"<ipython-input-12-e887a3ade264>\"\u001b[0;36m, line \u001b[0;32m9\u001b[0m\n\u001b[0;31m    data.data :(506, 13), data.target: (506,), num_features: 13\u001b[0m\n\u001b[0m                        ^\u001b[0m\n\u001b[0;31mSyntaxError\u001b[0m\u001b[0;31m:\u001b[0m invalid syntax\n"
          ]
        }
      ]
    },
    {
      "cell_type": "markdown",
      "source": [],
      "metadata": {
        "id": "JVOliNJeSG1h"
      }
    },
    {
      "cell_type": "code",
      "source": [
        "# https://scipy-lectures.org/packages/scikit-learn/auto_examples/plot_boston_prediction.html\n",
        "def label_histogram():\n",
        "    plt.figure(figsize=(6, 5))\n",
        "    plt.hist(y)\n",
        "    plt.xlabel('price ($1000s)')\n",
        "    plt.ylabel('count')\n",
        "    plt.tight_layout()"
      ],
      "metadata": {
        "id": "Qk2M3547SRHb"
      },
      "execution_count": 4,
      "outputs": []
    },
    {
      "cell_type": "markdown",
      "source": [],
      "metadata": {
        "id": "rx31A3yrSU3y"
      }
    },
    {
      "cell_type": "code",
      "source": [
        "## PLOTING PRCIES AGAINST EACH FEATURE\n",
        "def price_single_feature_ploting(input_data, feature_names):\n",
        "    fig, axes = plt.subplots(5, 3, figsize = (15, 15))\n",
        "    plt.subplots_adjust(bottom=0.1, right=0.8, top=0.9)\n",
        "    for index, (ax, feature_name) in enumerate(zip(axes.flat[:-2],feature_names)): \n",
        "        ax.scatter(input_data[:, index], y)\n",
        "        ax.set(xlabel=feature_name, ylabel='Price')"
      ],
      "metadata": {
        "id": "phr3f3VySVQw"
      },
      "execution_count": 5,
      "outputs": []
    },
    {
      "cell_type": "markdown",
      "source": [],
      "metadata": {
        "id": "EJR63bxnScfN"
      }
    },
    {
      "cell_type": "code",
      "source": [
        "def training(X, y):\n",
        "    \"\"\" find the coefficients and the intercept of the linear model which fit best to the dataset \n",
        "    X: is a the input matrix, which rows are examples and columns are features\n",
        "    y: the target vector, which has length equals to the number of total examples in the dataset\n",
        "    \n",
        "    return:\n",
        "    \n",
        "    coefficients : which is a vector, lenght equals to number of features  \n",
        "    intercept: a scalar (the bias)\"\"\"\n",
        "    \n",
        "    ..."
      ],
      "metadata": {
        "id": "5wjcJt_mSc3R"
      },
      "execution_count": 6,
      "outputs": []
    },
    {
      "cell_type": "markdown",
      "source": [],
      "metadata": {
        "id": "BCobQiyOT0Xo"
      }
    },
    {
      "cell_type": "code",
      "source": [
        "coefficients, intercept = training(X, y)\n",
        "assert np.allclose(coefficients,\n",
        "                   np.array([-1.08011358e-01,  4.64204584e-02,  2.05586264e-02,  2.68673382e+00,\n",
        "                             -1.77666112e+01,  3.80986521e+00,  6.92224640e-04, -1.47556685e+00,\n",
        "                             3.06049479e-01, -1.23345939e-02, -9.52747232e-01,  9.31168327e-03,\n",
        "                             -5.24758378e-01]))\n",
        "assert np.allclose(intercept, 36.459488385090125)"
      ],
      "metadata": {
        "colab": {
          "base_uri": "https://localhost:8080/",
          "height": 235
        },
        "id": "f6GIAFzMT0oX",
        "outputId": "5cf74f6c-530c-4e47-d7e5-8f0429c16822"
      },
      "execution_count": 7,
      "outputs": [
        {
          "output_type": "error",
          "ename": "NameError",
          "evalue": "ignored",
          "traceback": [
            "\u001b[0;31m---------------------------------------------------------------------------\u001b[0m",
            "\u001b[0;31mNameError\u001b[0m                                 Traceback (most recent call last)",
            "\u001b[0;32m<ipython-input-7-e55d8bd4ffe8>\u001b[0m in \u001b[0;36m<module>\u001b[0;34m\u001b[0m\n\u001b[0;32m----> 1\u001b[0;31m \u001b[0mcoefficients\u001b[0m\u001b[0;34m,\u001b[0m \u001b[0mintercept\u001b[0m \u001b[0;34m=\u001b[0m \u001b[0mtraining\u001b[0m\u001b[0;34m(\u001b[0m\u001b[0mX\u001b[0m\u001b[0;34m,\u001b[0m \u001b[0my\u001b[0m\u001b[0;34m)\u001b[0m\u001b[0;34m\u001b[0m\u001b[0;34m\u001b[0m\u001b[0m\n\u001b[0m\u001b[1;32m      2\u001b[0m assert np.allclose(coefficients,\n\u001b[1;32m      3\u001b[0m                    np.array([-1.08011358e-01,  4.64204584e-02,  2.05586264e-02,  2.68673382e+00,\n\u001b[1;32m      4\u001b[0m                              \u001b[0;34m-\u001b[0m\u001b[0;36m1.77666112e+01\u001b[0m\u001b[0;34m,\u001b[0m  \u001b[0;36m3.80986521e+00\u001b[0m\u001b[0;34m,\u001b[0m  \u001b[0;36m6.92224640e-04\u001b[0m\u001b[0;34m,\u001b[0m \u001b[0;34m-\u001b[0m\u001b[0;36m1.47556685e+00\u001b[0m\u001b[0;34m,\u001b[0m\u001b[0;34m\u001b[0m\u001b[0;34m\u001b[0m\u001b[0m\n\u001b[1;32m      5\u001b[0m                              \u001b[0;36m3.06049479e-01\u001b[0m\u001b[0;34m,\u001b[0m \u001b[0;34m-\u001b[0m\u001b[0;36m1.23345939e-02\u001b[0m\u001b[0;34m,\u001b[0m \u001b[0;34m-\u001b[0m\u001b[0;36m9.52747232e-01\u001b[0m\u001b[0;34m,\u001b[0m  \u001b[0;36m9.31168327e-03\u001b[0m\u001b[0;34m,\u001b[0m\u001b[0;34m\u001b[0m\u001b[0;34m\u001b[0m\u001b[0m\n",
            "\u001b[0;31mNameError\u001b[0m: name 'X' is not defined"
          ]
        }
      ]
    },
    {
      "cell_type": "markdown",
      "source": [],
      "metadata": {
        "id": "DuIraO43UYqC"
      }
    },
    {
      "cell_type": "code",
      "source": [
        "def visualize_results(y_predict, y_target):\n",
        "    \"\"\" this function plot your y_predict and y_predict to see how closed they are\"\"\"\n",
        "    \n",
        "    plt.figure(figsize=(5, 4))\n",
        "    plt.scatter(y_target, y_predict)\n",
        "    plt.plot([0, 50], [0, 50], '--k')\n",
        "    plt.axis('tight')\n",
        "    plt.xlabel('True price ($1000s)')\n",
        "    plt.ylabel('Predicted price ($1000s)')\n",
        "    plt.tight_layout()"
      ],
      "metadata": {
        "id": "K9hnu9WPUY9l"
      },
      "execution_count": 8,
      "outputs": []
    },
    {
      "cell_type": "markdown",
      "source": [],
      "metadata": {
        "id": "aIYo9q5qU3iO"
      }
    },
    {
      "cell_type": "code",
      "source": [
        "# MSE evaluation\n",
        "def MSE(X, y_target, coefficients, intercept):\n",
        "    \"\"\"Calculate the mean square error of your model\n",
        "    X: is a the input matrix , which rows are examples and columns are features\n",
        "    y_target : a vector,contains the true housing prices for all houses in the dataset\n",
        "    coefficients and scalar: calculated above, used to compute y_predict\n",
        "    \n",
        "    return:\n",
        "    MSE: a scalar\"\"\"\n",
        "    \n",
        "    # compute y_predict: the price prediction of our model for all houses\n",
        "    #1 line of code\n",
        "    y_predict = ...\n",
        "    \n",
        "    # calculate MSE based on y_predict and y_target\n",
        "    assert len(y_predict) == len(y_target)\n",
        "    # 1 line of code\n",
        "    MSE = ...\n",
        "\n",
        "    return MSE"
      ],
      "metadata": {
        "id": "yphFw1_iU3zl"
      },
      "execution_count": 9,
      "outputs": []
    },
    {
      "cell_type": "markdown",
      "source": [],
      "metadata": {
        "id": "SjtmHrABVN-0"
      }
    },
    {
      "cell_type": "code",
      "source": [
        "!pip install scikit-learn==0.24.2"
      ],
      "metadata": {
        "colab": {
          "base_uri": "https://localhost:8080/"
        },
        "id": "8mQ7Zi4EVOOW",
        "outputId": "24926771-aa00-4bbd-fd20-f6ce3fd22b0b"
      },
      "execution_count": 10,
      "outputs": [
        {
          "output_type": "stream",
          "name": "stdout",
          "text": [
            "Looking in indexes: https://pypi.org/simple, https://us-python.pkg.dev/colab-wheels/public/simple/\n",
            "Collecting scikit-learn==0.24.2\n",
            "  Downloading scikit_learn-0.24.2-cp37-cp37m-manylinux2010_x86_64.whl (22.3 MB)\n",
            "\u001b[K     |████████████████████████████████| 22.3 MB 1.5 MB/s \n",
            "\u001b[?25hRequirement already satisfied: numpy>=1.13.3 in /usr/local/lib/python3.7/dist-packages (from scikit-learn==0.24.2) (1.21.6)\n",
            "Requirement already satisfied: scipy>=0.19.1 in /usr/local/lib/python3.7/dist-packages (from scikit-learn==0.24.2) (1.7.3)\n",
            "Requirement already satisfied: threadpoolctl>=2.0.0 in /usr/local/lib/python3.7/dist-packages (from scikit-learn==0.24.2) (3.1.0)\n",
            "Requirement already satisfied: joblib>=0.11 in /usr/local/lib/python3.7/dist-packages (from scikit-learn==0.24.2) (1.2.0)\n",
            "Installing collected packages: scikit-learn\n",
            "  Attempting uninstall: scikit-learn\n",
            "    Found existing installation: scikit-learn 1.0.2\n",
            "    Uninstalling scikit-learn-1.0.2:\n",
            "      Successfully uninstalled scikit-learn-1.0.2\n",
            "\u001b[31mERROR: pip's dependency resolver does not currently take into account all the packages that are installed. This behaviour is the source of the following dependency conflicts.\n",
            "yellowbrick 1.5 requires scikit-learn>=1.0.0, but you have scikit-learn 0.24.2 which is incompatible.\u001b[0m\n",
            "Successfully installed scikit-learn-0.24.2\n"
          ]
        }
      ]
    }
  ]
}